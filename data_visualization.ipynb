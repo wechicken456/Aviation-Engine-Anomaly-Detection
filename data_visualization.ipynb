{
 "cells": [
  {
   "cell_type": "code",
   "execution_count": 1,
   "id": "4cbab40a-ab5a-482e-af9d-e55035467731",
   "metadata": {},
   "outputs": [
    {
     "data": {
      "text/plain": [
       "<torch._C.Generator at 0x7f61e8b49770>"
      ]
     },
     "execution_count": 1,
     "metadata": {},
     "output_type": "execute_result"
    }
   ],
   "source": [
    "%matplotlib inline\n",
    "import pandas as pd\n",
    "import d2l.torch as d2l\n",
    "import torch\n",
    "from torch.nn import functional as F\n",
    "from torch import nn\n",
    "import numpy as np\n",
    "import os\n",
    "import matplotlib.pyplot as plt\n",
    "from statsmodels.tsa.seasonal import STL\n",
    "from pandas.api.types import is_numeric_dtype\n",
    "import time\n",
    "from sklearn.preprocessing import StandardScaler, MinMaxScaler\n",
    "\n",
    "torch.manual_seed(0)"
   ]
  },
  {
   "cell_type": "code",
   "execution_count": null,
   "id": "d484710b-b5ec-4b71-a459-d80152a4bdcd",
   "metadata": {},
   "outputs": [],
   "source": [
    "dfs = pd.DataFrame()\n",
    "for i in range(1, 6):\n",
    "    df = pd.read_excel(f\"./data/flight_data_batch{i}.xlsx\")\n",
    "    dfs = pd.concat([dfs, df], ignore_index=True)"
   ]
  },
  {
   "cell_type": "code",
   "execution_count": null,
   "id": "67b58e9f-194e-4d62-bd0b-18b802da85d5",
   "metadata": {},
   "outputs": [],
   "source": [
    "for i in range(1, 4):\n",
    "    df = pd.read_excel(f\"./data/flight_data_batch6_part{i}.xlsx\")\n",
    "    dfs = pd.concat([dfs, df], ignore_index=True)"
   ]
  },
  {
   "cell_type": "code",
   "execution_count": null,
   "id": "772206ea-1d5f-44e9-a77a-6bc36bc9429a",
   "metadata": {},
   "outputs": [],
   "source": [
    "# only visualizing a portion of data\n",
    "#all_data = df.iloc[:9000]\n",
    "\n",
    "\n",
    "all_data = dfs.groupby(\"label\")\n",
    "\n",
    "normal_groups = all_data.get_group(0)\n",
    "bad_groups = all_data.get_group(1)    "
   ]
  },
  {
   "cell_type": "code",
   "execution_count": null,
   "id": "c5172709-7fa1-4616-80b3-33df9f4a916b",
   "metadata": {},
   "outputs": [],
   "source": [
    "# compare normal vs bad flights\n",
    "normal_flights = normal_groups.groupby(\"flight_id\")\n",
    "normal_flights = [f for _, f in normal_flights]\n",
    "bad_flights = bad_groups.groupby(\"flight_id\")\n",
    "bad_flights = [f for _, f in bad_flights]"
   ]
  },
  {
   "cell_type": "code",
   "execution_count": 2,
   "id": "2e467c08-c139-4f92-94e1-7f80698acffd",
   "metadata": {},
   "outputs": [
    {
     "ename": "NameError",
     "evalue": "name 'normal_data' is not defined",
     "output_type": "error",
     "traceback": [
      "\u001b[0;31m---------------------------------------------------------------------------\u001b[0m",
      "\u001b[0;31mNameError\u001b[0m                                 Traceback (most recent call last)",
      "Cell \u001b[0;32mIn[2], line 1\u001b[0m\n\u001b[0;32m----> 1\u001b[0m t \u001b[38;5;241m=\u001b[39m \u001b[43mnormal_data\u001b[49m[\u001b[38;5;124m\"\u001b[39m\u001b[38;5;124mtime\u001b[39m\u001b[38;5;124m\"\u001b[39m]\u001b[38;5;241m.\u001b[39miloc[:\u001b[38;5;241m200\u001b[39m] \u001b[38;5;66;03m# time axis\u001b[39;00m\n\u001b[1;32m      2\u001b[0m normal_data \u001b[38;5;241m=\u001b[39m normal_data\u001b[38;5;241m.\u001b[39mdrop(\u001b[38;5;124m\"\u001b[39m\u001b[38;5;124mtime\u001b[39m\u001b[38;5;124m\"\u001b[39m, axis\u001b[38;5;241m=\u001b[39m\u001b[38;5;241m1\u001b[39m) \u001b[38;5;66;03m# drop the time column\u001b[39;00m\n\u001b[1;32m      3\u001b[0m bad_data \u001b[38;5;241m=\u001b[39m bad_data\u001b[38;5;241m.\u001b[39mdrop(\u001b[38;5;124m\"\u001b[39m\u001b[38;5;124mtime\u001b[39m\u001b[38;5;124m\"\u001b[39m, axis\u001b[38;5;241m=\u001b[39m\u001b[38;5;241m1\u001b[39m)\n",
      "\u001b[0;31mNameError\u001b[0m: name 'normal_data' is not defined"
     ]
    }
   ],
   "source": [
    "t = normal_data[\"time\"].iloc[:200] # time axis\n",
    "normal_data = normal_data.drop(\"time\", axis=1) # drop the time column\n",
    "bad_data = bad_data.drop(\"time\", axis=1)\n",
    "\n",
    "# standard norm for all columns\n",
    "normal_data_scaled = normal_data.transform(lambda col : (col - col.mean()) / (col.std() + 1e-9) if is_numeric_dtype(col) else col)\n",
    "bad_data_scaled = bad_data.transform(lambda col : (col - col.mean()) / (col.std() + 1e-9) if is_numeric_dtype(col) else col)\n",
    "\n",
    "# Set general font size for matplot\n",
    "plt.rcParams['font.size'] = '16'\n",
    "\n",
    "num_graphs = normal_data_scaled.shape[1] - 1\n",
    "decomped = []\n",
    "for i in range(num_graphs-1):\n",
    "    fig, axes = plt.subplots(4, 2, figsize=(10, 15))\n",
    "        \n",
    "    column_name = normal_data_scaled.columns[i]\n",
    "    axes[0, 0].set_ylabel(column_name)\n",
    "    axes[0, 0].plot(t, normal_data_scaled[column_name])\n",
    "    axes[0, 0].plot(t, [normal_data_scaled[column_name].mean()]*len(t), color=\"red\")\n",
    "    axes[0, 0].legend([\"Measured\", \"Fit\"])\n",
    "    # STL decomp\n",
    "    stl = STL(normal_data_scaled[column_name], period=10)\n",
    "    res = stl.fit()\n",
    "    axes[1, 0].set_ylabel(\"Trend\")\n",
    "    axes[1, 0].plot(t, res.trend)\n",
    "    axes[2, 0].set_ylabel(\"Seasonal\")\n",
    "    axes[2, 0].plot(t, res.seasonal)\n",
    "    axes[3, 0].set_ylabel(\"Residual\")\n",
    "    axes[3, 0].plot(t, res.resid)\n",
    "    axes[3, 0].set_xlabel(\"time\")\n",
    "    # decomped.append(res)\n",
    "        \n",
    "    column_name = bad_data_scaled.columns[i]\n",
    "    axes[0, 1].set_ylabel(column_name)\n",
    "    axes[0, 1].plot(t, bad_data_scaled[column_name], color=\"orange\")\n",
    "    axes[0, 1].plot(t, [bad_data_scaled[column_name].mean()]*len(t), color=\"black\")\n",
    "    axes[0, 1].legend([\"Measured\", \"Fit\"])\n",
    "    # STL decomp\n",
    "    stl = STL(bad_data_scaled[column_name], period=10)\n",
    "    res = stl.fit()\n",
    "    axes[1, 1].plot(t, res.trend, color=\"orange\")\n",
    "    axes[2, 1].plot(t, res.seasonal, color=\"orange\")\n",
    "    axes[3, 1].plot(t, res.resid, color=\"orange\")\n",
    "    axes[3, 1].set_xlabel(\"time\")\n",
    "    # Add a horizontal line divider below to separate every 4 graphs \n",
    "    fig.add_artist(plt.Line2D((0, 1), (0.08, 0.08), color='black', \n",
    "                  linewidth=5, transform=fig.transFigure))\n",
    "    plt.subplots_adjust(bottom=0.15)\n",
    "\n",
    "    \n"
   ]
  },
  {
   "cell_type": "code",
   "execution_count": null,
   "id": "819decb7-b4b4-482c-bd35-fdedfa6465c4",
   "metadata": {},
   "outputs": [],
   "source": []
  }
 ],
 "metadata": {
  "kernelspec": {
   "display_name": "Python 3 (ipykernel)",
   "language": "python",
   "name": "python3"
  },
  "language_info": {
   "codemirror_mode": {
    "name": "ipython",
    "version": 3
   },
   "file_extension": ".py",
   "mimetype": "text/x-python",
   "name": "python",
   "nbconvert_exporter": "python",
   "pygments_lexer": "ipython3",
   "version": "3.11.11"
  }
 },
 "nbformat": 4,
 "nbformat_minor": 5
}
