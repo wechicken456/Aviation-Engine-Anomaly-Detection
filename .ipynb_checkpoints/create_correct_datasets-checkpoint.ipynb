{
 "cells": [
  {
   "cell_type": "code",
   "execution_count": 9,
   "id": "ee275535-f7fc-45d6-832e-51b8279a113a",
   "metadata": {},
   "outputs": [],
   "source": [
    "import pandas as pd"
   ]
  },
  {
   "cell_type": "code",
   "execution_count": 10,
   "id": "2fe72755-c4c3-4e26-8060-58eaf890fbc6",
   "metadata": {},
   "outputs": [
    {
     "name": "stdout",
     "output_type": "stream",
     "text": [
      "Index([216105], dtype='int64') Index([], dtype='int64')\n",
      "Index([], dtype='int64') Index([210420], dtype='int64')\n",
      "Index([161670], dtype='int64') Index([], dtype='int64')\n",
      "Index([], dtype='int64') Index([69730], dtype='int64')\n",
      "Index([185415], dtype='int64') Index([], dtype='int64')\n",
      "Index([80205], dtype='int64') Index([], dtype='int64')\n",
      "Index([192510], dtype='int64') Index([], dtype='int64')\n",
      "Index([], dtype='int64') Index([120925], dtype='int64')\n",
      "Index([], dtype='int64') Index([202950], dtype='int64')\n",
      "Index([], dtype='int64') Index([117675], dtype='int64')\n",
      "Index([], dtype='int64') Index([5000], dtype='int64')\n",
      "Index([84265], dtype='int64') Index([], dtype='int64')\n",
      "Index([124900], dtype='int64') Index([], dtype='int64')\n",
      "Index([], dtype='int64') Index([38355], dtype='int64')\n",
      "Index([133015], dtype='int64') Index([], dtype='int64')\n",
      "Index([174295], dtype='int64') Index([], dtype='int64')\n",
      "Index([153915], dtype='int64') Index([], dtype='int64')\n",
      "Index([31945], dtype='int64') Index([], dtype='int64')\n",
      "Index([], dtype='int64') Index([129255], dtype='int64')\n",
      "Index([], dtype='int64') Index([59525], dtype='int64')\n",
      "Index([], dtype='int64') Index([104415], dtype='int64')\n",
      "Index([198290], dtype='int64') Index([], dtype='int64')\n",
      "Index([], dtype='int64') Index([50095], dtype='int64')\n",
      "Index([], dtype='int64') Index([24210], dtype='int64')\n",
      "Index([146290], dtype='int64') Index([], dtype='int64')\n"
     ]
    }
   ],
   "source": [
    "dfs = pd.DataFrame()\n",
    "for i in range(1, 2):\n",
    "    df = pd.read_excel(f\"./data/flight_data_batch{i}.xlsx\")\n",
    "    df = df.iloc[::5]\n",
    "    df.insert(len(df.columns.tolist()), \"is_fail_point\", 0)\n",
    "    df.insert(len(df.columns.tolist()), \"is_fail_left\", 0)\n",
    "    df.insert(len(df.columns.tolist()), \"is_fail_right\", 0)\n",
    "    fail_df = pd.read_csv(f\"./data/Failures/Failure_Events_in_Batch_{i}.csv\")\n",
    "    \n",
    "    # Get set of flight_ids from fail_df\n",
    "    fail_flight_ids = set(fail_df[\"flight_id\"])\n",
    "    \n",
    "    # Process each flight_id in fail_df\n",
    "    \"\"\"\n",
    "    Have to be careful in indexing: https://pandas.pydata.org/pandas-docs/stable/user_guide/indexing.html#why-does-assignment-fail-when-using-chained-indexing\n",
    "    \"\"\"\n",
    "    for flight_id in fail_flight_ids:\n",
    "        # Get indices of rows for this flight_id\n",
    "        flight_indices = df[df[\"flight_id\"] == flight_id].index\n",
    "        \n",
    "        # Sort these rows by time \n",
    "        flight_subset = df.loc[flight_indices].sort_values(by=\"time\", kind=\"stable\")\n",
    "        \n",
    "        # Update df with sorted rows\n",
    "        df.loc[flight_indices] = flight_subset\n",
    "        \n",
    "        # Compute differences in rpm_right for consecutive rows\n",
    "        rpm_right_diff = flight_subset[\"rpm_right\"].diff()\n",
    "        rpm_left_diff = flight_subset[\"rpm_left\"].diff()\n",
    "        \n",
    "        # Identify rows where rpms are 1000 less than previous row\n",
    "        # diff < -1000 means current - previous < -1000, i.e., current < previous - 1000\n",
    "        condition_left = (rpm_left_diff <  -1000)\n",
    "        condition_right = (rpm_right_diff < -1000)\n",
    "        \n",
    "        # Get indices of rows meeting the condition \n",
    "        failure_index_left = flight_subset.index[condition_left]\n",
    "        matching_indices_right = flight_subset.index[condition_right]\n",
    "\n",
    "        if not failure_index_left.empty:\n",
    "            all_fail_indices = flight_subset.index[flight_subset.index >= failure_index_left]\n",
    "            df.loc[all_fail_indices, \"is_fail_left\"] = True\n",
    "            df.loc[failure_index_left, \"\n",
    "        print(failure_index_left, matching_indices_right)\n",
    "        # Set is_fail to True for matching rows in original df\n",
    "        df.loc[failure_index_left, \"is_fail_left\"] = 1\n",
    "        df.loc[matching_indices_right, \"is_fail_right\"] = 1\n",
    "    \n",
    "    dfs = pd.concat([dfs, df], ignore_index=True)"
   ]
  },
  {
   "cell_type": "code",
   "execution_count": 4,
   "id": "a1748194-ef82-4704-8d9b-e8f2aee555d9",
   "metadata": {},
   "outputs": [
    {
     "ename": "SyntaxError",
     "evalue": "closing parenthesis ')' does not match opening parenthesis '[' (190400214.py, line 36)",
     "output_type": "error",
     "traceback": [
      "\u001b[0;36m  Cell \u001b[0;32mIn[4], line 36\u001b[0;36m\u001b[0m\n\u001b[0;31m    matching_indices_right = flight_subset.index[condition_right)\u001b[0m\n\u001b[0m                                                                ^\u001b[0m\n\u001b[0;31mSyntaxError\u001b[0m\u001b[0;31m:\u001b[0m closing parenthesis ')' does not match opening parenthesis '['\n"
     ]
    }
   ],
   "source": [
    "for i in range(1, 4):\n",
    "    df = pd.read_excel(f\"./data/flight_data_batch6_part{i}.xlsx\")\n",
    "    df = df.iloc[::5]\n",
    "    df.insert(len(df.columns.tolist()), \"is_fail_left\", 0)\n",
    "    df.insert(len(df.columns.tolist()), \"is_fail_right\", 0)\n",
    "    fail_df = pd.read_csv(f\"./data/Failures/Failure_Events_in_Batch_6_Part_{i}.csv\")\n",
    "    \n",
    "    # Get set of flight_ids from fail_df\n",
    "    fail_flight_ids = set(fail_df[\"flight_id\"])\n",
    "    \n",
    "    # Process each flight_id in fail_df\n",
    "    \"\"\"\n",
    "    Have to be careful in indexing: https://pandas.pydata.org/pandas-docs/stable/user_guide/indexing.html#why-does-assignment-fail-when-using-chained-indexing\n",
    "    \"\"\"\n",
    "    for flight_id in fail_flight_ids:\n",
    "        # Get indices of rows for this flight_id\n",
    "        flight_indices = df[df[\"flight_id\"] == flight_id].index\n",
    "        \n",
    "        # Sort these rows by time \n",
    "        flight_subset = df.loc[flight_indices].sort_values(by=\"time\", kind=\"stable\")\n",
    "        \n",
    "        # Update df with sorted rows\n",
    "        df.loc[flight_indices] = flight_subset\n",
    "        \n",
    "        # Compute differences in rpm_right for consecutive rows\n",
    "        rpm_right_diff = flight_subset[\"rpm_right\"].diff()\n",
    "        rpm_left_diff = flight_subset[\"rpm_left\"].diff()\n",
    "        \n",
    "        # Identify rows where rpms are 1000 less than previous row\n",
    "        # diff < -1000 means current - previous < -1000, i.e., current < previous - 1000\n",
    "        condition_left = (rpm_left_diff <  -1000)\n",
    "        condition_right = (rpm_right_diff < -1000)\n",
    "        \n",
    "        # Get indices of rows meeting the condition \n",
    "        failure_index_left = flight_subset.index[condition_left]\n",
    "        matching_indices_right = flight_subset.index[condition_right]\n",
    "        # Set is_fail to True for matching rows in original df\n",
    "        df.loc[failure_index_left, \"is_fail_left\"] = 1\n",
    "        df.loc[matching_indices_right, \"is_fail_right\"] = 1\n",
    "    \n",
    "    dfs = pd.concat([dfs, df], ignore_index=True)"
   ]
  },
  {
   "cell_type": "code",
   "execution_count": null,
   "id": "50fc9c82-763b-4591-9ea7-c70df6c2445e",
   "metadata": {},
   "outputs": [],
   "source": [
    "dfs.to_csv(\"./data/combined_correct_datasets.csv\", index=False) # don't add another column for indices"
   ]
  },
  {
   "cell_type": "code",
   "execution_count": null,
   "id": "6b4f650c-3595-4293-a5a1-a22e472ff9f8",
   "metadata": {},
   "outputs": [],
   "source": [
    "print(sum(dfs[\"is_fail\"] == 1))"
   ]
  },
  {
   "cell_type": "code",
   "execution_count": null,
   "id": "d62fe302-ca95-4203-91b6-5c702ca9f127",
   "metadata": {},
   "outputs": [],
   "source": [
    "print(dfs)"
   ]
  },
  {
   "cell_type": "code",
   "execution_count": null,
   "id": "92117bbf-417d-423b-9d4b-9f8765abab5a",
   "metadata": {},
   "outputs": [],
   "source": []
  }
 ],
 "metadata": {
  "kernelspec": {
   "display_name": "Python 3 (ipykernel)",
   "language": "python",
   "name": "python3"
  },
  "language_info": {
   "codemirror_mode": {
    "name": "ipython",
    "version": 3
   },
   "file_extension": ".py",
   "mimetype": "text/x-python",
   "name": "python",
   "nbconvert_exporter": "python",
   "pygments_lexer": "ipython3",
   "version": "3.11.11"
  }
 },
 "nbformat": 4,
 "nbformat_minor": 5
}
